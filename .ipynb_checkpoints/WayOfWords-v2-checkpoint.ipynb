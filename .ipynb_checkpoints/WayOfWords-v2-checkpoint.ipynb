{
 "cells": [
  {
   "cell_type": "code",
   "execution_count": 36,
   "metadata": {},
   "outputs": [],
   "source": [
    "import nltk\n",
    "import spacy\n",
    "from nltk.tokenize.toktok import ToktokTokenizer\n",
    "from ebooklib import epub\n",
    "import ebooklib\n",
    "from bs4 import BeautifulSoup\n",
    "import re\n",
    "import itertools\n",
    "import matplotlib.pyplot as plt\n",
    "import numpy as np\n",
    "from contractions import CONTRACTION_MAP\n",
    "import unicodedata\n",
    "from gensim.models import Word2Vec\n",
    "from sklearn.decomposition import PCA\n",
    "from matplotlib import pyplot as plt\n",
    "%matplotlib inline"
   ]
  },
  {
   "cell_type": "code",
   "execution_count": 18,
   "metadata": {},
   "outputs": [],
   "source": [
    "nlp = spacy.load('en_core_web_md', parse=True, tag=True, entity=True)\n",
    "tokenizer = ToktokTokenizer()\n",
    "stopword_list = nltk.corpus.stopwords.words('english')\n",
    "stopword_list.remove('no')\n",
    "stopword_list.remove('not')"
   ]
  },
  {
   "cell_type": "code",
   "execution_count": 2,
   "metadata": {},
   "outputs": [],
   "source": [
    "def remove_accented_chars(text):\n",
    "    text = unicodedata.normalize('NFKD', text).encode('ascii', 'ignore').decode('utf-8', 'ignore')\n",
    "    return text\n"
   ]
  },
  {
   "cell_type": "code",
   "execution_count": 3,
   "metadata": {},
   "outputs": [],
   "source": [
    "def expand_contractions(text, contraction_mapping=CONTRACTION_MAP):\n",
    "    \n",
    "    contractions_pattern = re.compile('({})'.format('|'.join(contraction_mapping.keys())), \n",
    "                                      flags=re.IGNORECASE|re.DOTALL)\n",
    "    def expand_match(contraction):\n",
    "        match = contraction.group(0)\n",
    "        first_char = match[0]\n",
    "        expanded_contraction = contraction_mapping.get(match)\\\n",
    "                                if contraction_mapping.get(match)\\\n",
    "                                else contraction_mapping.get(match.lower())                       \n",
    "        expanded_contraction = first_char+expanded_contraction[1:]\n",
    "        return expanded_contraction\n",
    "        \n",
    "    expanded_text = contractions_pattern.sub(expand_match, text)\n",
    "    expanded_text = re.sub(\"'\", \"\", expanded_text)\n",
    "    return expanded_text"
   ]
  },
  {
   "cell_type": "code",
   "execution_count": 4,
   "metadata": {},
   "outputs": [],
   "source": [
    "def remove_special_characters(text, remove_digits=False):\n",
    "    pattern = r'[^a-zA-z0-9\\s]' if not remove_digits else r'[^a-zA-z\\s]'\n",
    "    text = re.sub(pattern, '', text)\n",
    "    return text\n"
   ]
  },
  {
   "cell_type": "code",
   "execution_count": 5,
   "metadata": {},
   "outputs": [],
   "source": [
    "def simple_stemmer(text):\n",
    "    ps = nltk.porter.PorterStemmer()\n",
    "    text = ' '.join([ps.stem(word) for word in text.split()])\n",
    "    return text"
   ]
  },
  {
   "cell_type": "code",
   "execution_count": 6,
   "metadata": {},
   "outputs": [],
   "source": [
    "def lemmatize_text(text):\n",
    "    text = nlp(text)\n",
    "    text = ' '.join([word.lemma_ if word.lemma_ != '-PRON-' else word.text for word in text])\n",
    "    return text"
   ]
  },
  {
   "cell_type": "code",
   "execution_count": 7,
   "metadata": {},
   "outputs": [],
   "source": [
    "def remove_stopwords(text, is_lower_case=False):\n",
    "    tokens = tokenizer.tokenize(text)\n",
    "    tokens = [token.strip() for token in tokens]\n",
    "    if is_lower_case:\n",
    "        filtered_tokens = [token for token in tokens if token not in stopword_list]\n",
    "    else:\n",
    "        filtered_tokens = [token for token in tokens if token.lower() not in stopword_list]\n",
    "    filtered_text = ' '.join(filtered_tokens)    \n",
    "    return filtered_text\n"
   ]
  },
  {
   "cell_type": "code",
   "execution_count": 8,
   "metadata": {},
   "outputs": [],
   "source": [
    "def normalize_corpus(corpus,contraction_expansion=True,\n",
    "                     accented_char_removal=True, text_lower_case=False, \n",
    "                     text_lemmatization=True, special_char_removal=True, \n",
    "                     stopword_removal=True, remove_digits=True):\n",
    "    \n",
    "    normalized_corpus = []\n",
    "    # normalize each document in the corpus\n",
    "    for doc in corpus:\n",
    "        # remove accented characters\n",
    "        if accented_char_removal:\n",
    "            doc = remove_accented_chars(doc)\n",
    "        # expand contractions    \n",
    "        if contraction_expansion:\n",
    "            doc = expand_contractions(doc)\n",
    "        # lowercase the text    \n",
    "        if text_lower_case:\n",
    "            doc = doc.lower()\n",
    "        # remove extra newlines\n",
    "        doc = re.sub(r'[\\r|\\n|\\r\\n]+', ' ',doc)\n",
    "        # lemmatize text\n",
    "        if text_lemmatization:\n",
    "            doc = lemmatize_text(doc)\n",
    "        # remove special characters and\\or digits    \n",
    "        if special_char_removal:\n",
    "            # insert spaces between special characters to isolate them    \n",
    "            special_char_pattern = re.compile(r'([{.(-)!}])')\n",
    "            doc = special_char_pattern.sub(\" \\\\1 \", doc)\n",
    "            doc = remove_special_characters(doc, remove_digits=remove_digits)  \n",
    "        # remove extra whitespace\n",
    "        doc = re.sub(' +', ' ', doc)\n",
    "        # remove stopwords\n",
    "        if stopword_removal:\n",
    "            doc = remove_stopwords(doc, is_lower_case=text_lower_case)\n",
    "            \n",
    "        normalized_corpus.append(doc)\n",
    "        \n",
    "    return normalized_corpus"
   ]
  },
  {
   "cell_type": "code",
   "execution_count": 9,
   "metadata": {},
   "outputs": [],
   "source": [
    "book = epub.read_epub('wok.epub')"
   ]
  },
  {
   "cell_type": "code",
   "execution_count": 10,
   "metadata": {},
   "outputs": [
    {
     "name": "stdout",
     "output_type": "stream",
     "text": [
      "{'fm02': {'chapterName': 'Prelude to the Stormlight Archive'}, 'ch01': {'chapterName': 'To Kill'}, 'ch02': {'chapterName': 'STORMBLESSED'}, 'ch03': {'chapterName': 'HONOR IS DEAD'}, 'ch04': {'chapterName': 'CITY OF BELLS'}, 'ch05': {'chapterName': 'THE SHATTERED PLAINS'}, 'ch06': {'chapterName': 'HERETIC'}, 'ch07': {'chapterName': 'BRIDGE FOUR'}, 'ch08': {'chapterName': 'ANYTHING REASONABLE'}, 'ch09': {'chapterName': 'NEARER THE FLAME'}, 'ch10': {'chapterName': 'DAMNATION'}, 'ch11': {'chapterName': 'STORIES OF SURGEONS'}, 'ch12': {'chapterName': 'DROPLETS'}, 'ch13': {'chapterName': 'ISHIKK'}, 'ch14': {'chapterName': 'NAN BALAT'}, 'ch15': {'chapterName': 'THE GLORY OF IGNORANCE'}, 'ch16': {'chapterName': 'UNITY'}, 'ch17': {'chapterName': 'TEN HEARTBEATS'}, 'ch18': {'chapterName': 'PAYDAY'}, 'ch19': {'chapterName': 'THE DECOY'}, 'ch20': {'chapterName': 'COCOONS'}, 'ch21': {'chapterName': 'A BLOODY, RED SUNSET'}, 'ch22': {'chapterName': 'HIGHPRINCE OF WAR'}, 'ch23': {'chapterName': 'STARFALLS'}, 'ch24': {'chapterName': 'SCARLET'}, 'ch25': {'chapterName': 'WHY MEN LIE'}, 'ch26': {'chapterName': 'EYES, HANDS, OR SPHERES?'}, 'ch27': {'chapterName': 'MANY USES'}, 'ch28': {'chapterName': 'THE GALLERY OF MAPS'}, 'ch29': {'chapterName': 'THE BUTCHER'}, 'ch30': {'chapterName': 'STILLNESS'}, 'ch31': {'chapterName': 'CHASM DUTY'}, 'ch32': {'chapterName': 'DECISION'}, 'ch33': {'chapterName': 'RYSN'}, 'ch34': {'chapterName': 'AXIES THE COLLECTOR'}, 'ch35': {'chapterName': 'A WORK OF ART'}, 'ch36': {'chapterName': 'ERRORGANCE'}, 'ch37': {'chapterName': 'DARKNESS UNSEEN'}, 'ch38': {'chapterName': 'BENEATH THE SKIN'}, 'ch39': {'chapterName': 'SIDE CARRY'}, 'ch40': {'chapterName': 'CYMATICS'}, 'ch41': {'chapterName': 'STORMWALL'}, 'ch42': {'chapterName': 'A LIGHT BY WHICH TO SEE'}, 'ch43': {'chapterName': 'THE LESSON'}, 'ch44': {'chapterName': 'SIDES'}, 'ch45': {'chapterName': 'ENVISAGER'}, 'ch46': {'chapterName': 'BURNED INTO HER'}, 'ch47': {'chapterName': 'EYES OF RED AND BLUE'}, 'ch48': {'chapterName': 'OF ALDS AND MILP'}, 'ch49': {'chapterName': 'BEGGARS AND BARMAIDS'}, 'ch50': {'chapterName': 'THE WRETCH'}, 'ch51': {'chapterName': 'THE WEEPING'}, 'ch52': {'chapterName': 'SHADESMAR'}, 'ch53': {'chapterName': 'CHILD OF TANAVAST'}, 'ch54': {'chapterName': 'STORMBLESSINGS'}, 'ch55': {'chapterName': 'STRAWBERRY'}, 'ch56': {'chapterName': 'TO CARE'}, 'ch57': {'chapterName': 'BACKBREAKER POWDER'}, 'ch58': {'chapterName': 'SAS NAHN'}, 'ch59': {'chapterName': 'BAXIL'}, 'ch60': {'chapterName': 'GERANID'}, 'ch61': {'chapterName': 'DEATH WEARS WHITE'}, 'ch62': {'chapterName': 'A HIGHWAY TO THE SUN'}, 'ch63': {'chapterName': 'DUNNY'}, 'ch64': {'chapterName': 'GIBLETISH'}, 'ch65': {'chapterName': 'AN EMERALD BROAM'}, 'ch66': {'chapterName': 'THAT STORMING BOOK'}, 'ch67': {'chapterName': 'WANDERSAIL'}, 'ch68': {'chapterName': 'THE JOURNEY'}, 'ch69': {'chapterName': 'AN HONOR'}, 'ch70': {'chapterName': 'THAT WHICH WE CANNOT HAVE'}, 'ch71': {'chapterName': 'RIGHT FOR WRONG'}, 'ch72': {'chapterName': 'THREE GLYPHS'}, 'ch73': {'chapterName': 'FEAR'}, 'ch74': {'chapterName': 'A MAN OF EXTREMES'}, 'ch75': {'chapterName': 'THE TOWER'}, 'ch76': {'chapterName': 'CODES'}, 'ch77': {'chapterName': 'WORDS'}, 'ch78': {'chapterName': 'ESHONAI'}, 'ch79': {'chapterName': 'JUSTICE'}, 'ch80': {'chapterName': 'SEA OF GLASS'}, 'ch81': {'chapterName': 'RECORDED IN BLOOD'}, 'ch82': {'chapterName': 'VERISTITALIAN'}, 'ch83': {'chapterName': 'TRUST'}, 'ch84': {'chapterName': 'GHOSTBLOOD'}, 'ch85': {'chapterName': 'IN THE TOP ROOM'}, 'bm01': {'chapterName': 'Of Most Worth'}, 'end01': {'chapterName': 'Endnote'}, 'bm02': {'chapterName': 'Ars Arcanum'}}\n"
     ]
    }
   ],
   "source": [
    "toc = book.get_item_with_id('con01')\n",
    "\n",
    "toc_pageSource = toc.get_content().decode('utf-8')\n",
    "\n",
    "soup = BeautifulSoup(toc_pageSource, 'html.parser')\n",
    "\n",
    "chapters = { file['id'].replace('a',''):{'chapterName':re.sub(\".*\\: \",\"\",file.text)} for file in soup.find_all('a') if 'id' in file.attrs  }\n",
    "\n",
    "for k in ['pt01','pt02','pt03','pt04','pt05','pt06','pt07','pt08','pt09',]:\n",
    "    chapters.pop(k,None)\n",
    "    \n",
    "print(chapters)"
   ]
  },
  {
   "cell_type": "code",
   "execution_count": 26,
   "metadata": {
    "collapsed": true
   },
   "outputs": [
    {
     "name": "stdout",
     "output_type": "stream",
     "text": [
      "fm02 0 45\n",
      "ch01 3 129\n",
      "ch02 3 142\n",
      "ch03 3 143\n",
      "ch04 3 123\n",
      "ch05 3 113\n",
      "ch06 3 134\n",
      "ch07 3 221\n",
      "ch08 3 186\n",
      "ch09 3 236\n",
      "ch10 3 67\n",
      "ch11 1 73\n",
      "ch12 3 112\n",
      "ch13 1 67\n",
      "ch14 1 32\n",
      "ch15 1 73\n",
      "ch16 2 254\n",
      "ch17 2 118\n",
      "ch18 2 142\n",
      "ch19 2 312\n",
      "ch20 1 189\n",
      "ch21 2 210\n",
      "ch22 2 293\n",
      "ch23 2 193\n",
      "ch24 1 30\n",
      "ch25 2 183\n",
      "ch26 2 183\n",
      "ch27 2 209\n",
      "ch28 2 132\n",
      "ch29 1 114\n",
      "ch30 2 191\n",
      "ch31 2 306\n",
      "ch32 2 330\n",
      "ch33 1 88\n",
      "ch34 1 69\n",
      "ch35 1 83\n",
      "ch36 3 252\n",
      "ch37 3 121\n",
      "ch38 1 61\n",
      "ch39 3 156\n",
      "ch40 3 201\n",
      "ch41 3 74\n",
      "ch42 3 46\n",
      "ch43 3 179\n",
      "ch44 1 229\n",
      "ch45 3 63\n",
      "ch46 3 87\n",
      "ch47 3 173\n",
      "ch48 1 81\n",
      "ch49 3 205\n",
      "ch50 3 176\n",
      "ch51 1 173\n",
      "ch52 3 273\n",
      "ch53 3 254\n",
      "ch54 1 165\n",
      "ch55 3 138\n",
      "ch56 3 111\n",
      "ch57 3 52\n",
      "ch58 1 72\n",
      "ch59 1 48\n",
      "ch60 1 59\n",
      "ch61 1 79\n",
      "ch62 3 233\n",
      "ch63 3 82\n",
      "ch64 3 188\n",
      "ch65 3 192\n",
      "ch66 3 118\n",
      "ch67 3 327\n",
      "ch68 3 232\n",
      "ch69 3 229\n",
      "ch70 3 150\n",
      "ch71 3 130\n",
      "ch72 3 169\n",
      "ch73 3 81\n",
      "ch74 3 112\n",
      "ch75 3 104\n",
      "ch76 3 69\n",
      "ch77 3 287\n",
      "ch78 3 204\n",
      "ch79 3 258\n",
      "ch80 1 85\n",
      "ch81 1 86\n",
      "ch82 1 42\n",
      "ch83 1 149\n",
      "ch84 1 31\n",
      "ch85 1 70\n",
      "bm01 1 49\n",
      "end01 1 9\n",
      "bm02 0 31\n"
     ]
    }
   ],
   "source": [
    "for chId in chapters:\n",
    "    item = book.get_item_with_id(chId)\n",
    "    pageSource = item.get_content().decode('utf-8')\n",
    "    soup = BeautifulSoup(pageSource, 'html.parser')\n",
    "    chapters[chId]['chapterHead'] = [para.text.strip()+'. ' for para in soup.find('div',attrs={'class':'chapterHead'}).find_all('p')]\n",
    "    chapters[chId]['chapterBody'] = [para.text.strip()+'. ' for para in soup.find('div',attrs={'class':'chapterBody'}).find_all('p')]\n",
    "    print(chId,len(chapters[chId]['chapterHead']),len(chapters[chId]['chapterBody']))\n",
    "    "
   ]
  },
  {
   "cell_type": "code",
   "execution_count": 41,
   "metadata": {},
   "outputs": [],
   "source": [
    "corpus = []\n",
    "for chapter in chapters:\n",
    "    corpus.append(chapters[chapter]['chapterName'])\n",
    "    corpus.extend(chapters[chapter]['chapterHead'])\n",
    "    corpus.extend(chapters[chapter]['chapterBody'])\n",
    "    \n",
    "clean_corpus = normalize_corpus(corpus)"
   ]
  },
  {
   "cell_type": "code",
   "execution_count": 48,
   "metadata": {},
   "outputs": [
    {
     "name": "stdout",
     "output_type": "stream",
     "text": [
      "|N|=13052|V|=11962\n"
     ]
    }
   ],
   "source": [
    "tokenised_sentences = [ sent.split() for sent in clean_corpus ]\n",
    "vocab = list(set(sorted([ tok for sent in tokenised_sentences for tok in sent])))\n",
    "print( \"|N|=\"+str(len(tokenised_sentences))+\"|V|=\"+str(len(vocab)) )\n"
   ]
  },
  {
   "cell_type": "code",
   "execution_count": 43,
   "metadata": {},
   "outputs": [
    {
     "name": "stderr",
     "output_type": "stream",
     "text": [
      "/usr/local/lib/python3.7/site-packages/ipykernel_launcher.py:2: DeprecationWarning: Call to deprecated `__getitem__` (Method will be removed in 4.0.0, use self.wv.__getitem__() instead).\n",
      "  \n"
     ]
    },
    {
     "data": {
      "image/png": "[encoded data removed]",
      "text/plain": [
       "<Figure size 432x288 with 1 Axes>"
      ]
     },
     "metadata": {
      "needs_background": "light"
     },
     "output_type": "display_data"
    }
   ],
   "source": [
    "model = Word2Vec(tokenised_sentences, min_count=1)\n",
    "X = model[model.wv.vocab]\n",
    "print(model.wv.vocab)\n",
    "pca = PCA(n_components=2)\n",
    "result = pca.fit_transform(X)\n",
    "\n",
    "# create a scatter plot of the projection\n",
    "plt.scatter(result[:, 0], result[:, 1])\n",
    "\n",
    "words = list(model.wv.vocab)\n",
    "\n",
    "for i, word in enumerate(words):\n",
    "\tplt.annotate(word, xy=(result[i, 0], result[i, 1]))\n",
    "    \n",
    "plt.show()"
   ]
  },
  {
   "cell_type": "code",
   "execution_count": null,
   "metadata": {},
   "outputs": [],
   "source": []
  }
 ],
 "metadata": {
  "kernelspec": {
   "display_name": "Python 3",
   "language": "python",
   "name": "python3"
  },
  "language_info": {
   "codemirror_mode": {
    "name": "ipython",
    "version": 3
   },
   "file_extension": ".py",
   "mimetype": "text/x-python",
   "name": "python",
   "nbconvert_exporter": "python",
   "pygments_lexer": "ipython3",
   "version": "3.7.0"
  }
 },
 "nbformat": 4,
 "nbformat_minor": 2
}
